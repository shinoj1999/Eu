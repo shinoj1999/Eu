{
 "cells": [
  {
   "cell_type": "code",
   "execution_count": 83,
   "id": "92fed6f9",
   "metadata": {},
   "outputs": [],
   "source": [
    "import pandas as pd\n",
    "from sklearn.linear_model import LinearRegression\n",
    "from sklearn.ensemble import RandomForestRegressor, GradientBoostingRegressor\n",
    "\n",
    "from sklearn.metrics import r2_score\n",
    "import numpy as np\n",
    "from sklearn.model_selection import train_test_split"
   ]
  },
  {
   "cell_type": "code",
   "execution_count": 84,
   "id": "ecde83e3",
   "metadata": {},
   "outputs": [
    {
     "data": {
      "text/html": [
       "<div>\n",
       "<style scoped>\n",
       "    .dataframe tbody tr th:only-of-type {\n",
       "        vertical-align: middle;\n",
       "    }\n",
       "\n",
       "    .dataframe tbody tr th {\n",
       "        vertical-align: top;\n",
       "    }\n",
       "\n",
       "    .dataframe thead th {\n",
       "        text-align: right;\n",
       "    }\n",
       "</style>\n",
       "<table border=\"1\" class=\"dataframe\">\n",
       "  <thead>\n",
       "    <tr style=\"text-align: right;\">\n",
       "      <th></th>\n",
       "      <th>Country</th>\n",
       "      <th>Year</th>\n",
       "      <th>2017 Jan-April</th>\n",
       "      <th>2017 May-Aug</th>\n",
       "      <th>2017 Sep-Dec</th>\n",
       "      <th>2018 Jan-April</th>\n",
       "      <th>2018 May-Aug</th>\n",
       "      <th>2018 Sep-Dec</th>\n",
       "      <th>2019 Jan-April</th>\n",
       "      <th>2019  May-Aug</th>\n",
       "      <th>2019 Sep-Dec</th>\n",
       "      <th>2020 Jan-April</th>\n",
       "      <th>2020 May-Aug</th>\n",
       "      <th>2020 Sep-Dec</th>\n",
       "      <th>2021 Jan-April</th>\n",
       "      <th>2021 May-Aug</th>\n",
       "      <th>2021 Sep-Dec</th>\n",
       "      <th>2022 Jan-April</th>\n",
       "      <th>2022 May-Aug</th>\n",
       "      <th>2022 Sep-Dec</th>\n",
       "    </tr>\n",
       "  </thead>\n",
       "  <tbody>\n",
       "    <tr>\n",
       "      <th>0</th>\n",
       "      <td>Greece</td>\n",
       "      <td>0</td>\n",
       "      <td>1060151</td>\n",
       "      <td>622143</td>\n",
       "      <td>303049</td>\n",
       "      <td>222234</td>\n",
       "      <td>244648</td>\n",
       "      <td>250907</td>\n",
       "      <td>1091356</td>\n",
       "      <td>1384267</td>\n",
       "      <td>1745575</td>\n",
       "      <td>1757100</td>\n",
       "      <td>1747788</td>\n",
       "      <td>1525135</td>\n",
       "      <td>1158253</td>\n",
       "      <td>925566</td>\n",
       "      <td>791693</td>\n",
       "      <td>580239</td>\n",
       "      <td>582684</td>\n",
       "      <td>437832</td>\n",
       "    </tr>\n",
       "    <tr>\n",
       "      <th>1</th>\n",
       "      <td>Bulgaria</td>\n",
       "      <td>0</td>\n",
       "      <td>67773</td>\n",
       "      <td>33788</td>\n",
       "      <td>23652</td>\n",
       "      <td>16154</td>\n",
       "      <td>15510</td>\n",
       "      <td>15296</td>\n",
       "      <td>9415</td>\n",
       "      <td>10893</td>\n",
       "      <td>10342</td>\n",
       "      <td>8907</td>\n",
       "      <td>11128</td>\n",
       "      <td>25882</td>\n",
       "      <td>19227</td>\n",
       "      <td>27583</td>\n",
       "      <td>39991</td>\n",
       "      <td>50862</td>\n",
       "      <td>22795</td>\n",
       "      <td>65279</td>\n",
       "    </tr>\n",
       "    <tr>\n",
       "      <th>2</th>\n",
       "      <td>North Macedonia</td>\n",
       "      <td>0</td>\n",
       "      <td>1431</td>\n",
       "      <td>929</td>\n",
       "      <td>854</td>\n",
       "      <td>1210</td>\n",
       "      <td>1356</td>\n",
       "      <td>1195</td>\n",
       "      <td>1310</td>\n",
       "      <td>1657</td>\n",
       "      <td>1686</td>\n",
       "      <td>2319</td>\n",
       "      <td>1221</td>\n",
       "      <td>914</td>\n",
       "      <td>878</td>\n",
       "      <td>1350</td>\n",
       "      <td>1475</td>\n",
       "      <td>1028</td>\n",
       "      <td>1132</td>\n",
       "      <td>900</td>\n",
       "    </tr>\n",
       "    <tr>\n",
       "      <th>3</th>\n",
       "      <td>Serbia</td>\n",
       "      <td>0</td>\n",
       "      <td>128424</td>\n",
       "      <td>96745</td>\n",
       "      <td>74939</td>\n",
       "      <td>62523</td>\n",
       "      <td>53486</td>\n",
       "      <td>63953</td>\n",
       "      <td>105757</td>\n",
       "      <td>78176</td>\n",
       "      <td>89654</td>\n",
       "      <td>164600</td>\n",
       "      <td>130880</td>\n",
       "      <td>151872</td>\n",
       "      <td>110035</td>\n",
       "      <td>73374</td>\n",
       "      <td>79126</td>\n",
       "      <td>79259</td>\n",
       "      <td>94369</td>\n",
       "      <td>93055</td>\n",
       "    </tr>\n",
       "    <tr>\n",
       "      <th>4</th>\n",
       "      <td>Croatia</td>\n",
       "      <td>0</td>\n",
       "      <td>9221</td>\n",
       "      <td>9202</td>\n",
       "      <td>6467</td>\n",
       "      <td>6389</td>\n",
       "      <td>5626</td>\n",
       "      <td>5849</td>\n",
       "      <td>4263</td>\n",
       "      <td>3975</td>\n",
       "      <td>5490</td>\n",
       "      <td>6610</td>\n",
       "      <td>4698</td>\n",
       "      <td>7058</td>\n",
       "      <td>4789</td>\n",
       "      <td>5512</td>\n",
       "      <td>5734</td>\n",
       "      <td>6630</td>\n",
       "      <td>6412</td>\n",
       "      <td>6587</td>\n",
       "    </tr>\n",
       "  </tbody>\n",
       "</table>\n",
       "</div>"
      ],
      "text/plain": [
       "           Country  Year  2017 Jan-April  2017 May-Aug  2017 Sep-Dec  \\\n",
       "0           Greece     0         1060151        622143        303049   \n",
       "1         Bulgaria     0           67773         33788         23652   \n",
       "2  North Macedonia     0            1431           929           854   \n",
       "3           Serbia     0          128424         96745         74939   \n",
       "4          Croatia     0            9221          9202          6467   \n",
       "\n",
       "   2018 Jan-April  2018 May-Aug  2018 Sep-Dec  2019 Jan-April  2019  May-Aug  \\\n",
       "0          222234        244648        250907         1091356        1384267   \n",
       "1           16154         15510         15296            9415          10893   \n",
       "2            1210          1356          1195            1310           1657   \n",
       "3           62523         53486         63953          105757          78176   \n",
       "4            6389          5626          5849            4263           3975   \n",
       "\n",
       "   2019 Sep-Dec  2020 Jan-April  2020 May-Aug  2020 Sep-Dec  2021 Jan-April  \\\n",
       "0       1745575         1757100       1747788       1525135         1158253   \n",
       "1         10342            8907         11128         25882           19227   \n",
       "2          1686            2319          1221           914             878   \n",
       "3         89654          164600        130880        151872          110035   \n",
       "4          5490            6610          4698          7058            4789   \n",
       "\n",
       "   2021 May-Aug  2021 Sep-Dec  2022 Jan-April  2022 May-Aug  2022 Sep-Dec  \n",
       "0        925566        791693          580239        582684        437832  \n",
       "1         27583         39991           50862         22795         65279  \n",
       "2          1350          1475            1028          1132           900  \n",
       "3         73374         79126           79259         94369         93055  \n",
       "4          5512          5734            6630          6412          6587  "
      ]
     },
     "execution_count": 84,
     "metadata": {},
     "output_type": "execute_result"
    }
   ],
   "source": [
    "data = pd.read_csv(r\"C:\\Users\\Shinoj Simon\\Downloads\\old - Sheet1.csv\")\n",
    "data.head()"
   ]
  },
  {
   "cell_type": "code",
   "execution_count": 85,
   "id": "daa01214",
   "metadata": {},
   "outputs": [
    {
     "data": {
      "text/plain": [
       "Country           0\n",
       "Year              0\n",
       "2017 Jan-April    0\n",
       "2017 May-Aug      0\n",
       "2017 Sep-Dec      0\n",
       "2018 Jan-April    0\n",
       "2018 May-Aug      0\n",
       "2018 Sep-Dec      0\n",
       "2019 Jan-April    0\n",
       "2019  May-Aug     0\n",
       "2019 Sep-Dec      0\n",
       "2020 Jan-April    0\n",
       "2020 May-Aug      0\n",
       "2020 Sep-Dec      0\n",
       "2021 Jan-April    0\n",
       "2021 May-Aug      0\n",
       "2021 Sep-Dec      0\n",
       "2022 Jan-April    0\n",
       "2022 May-Aug      0\n",
       "2022 Sep-Dec      0\n",
       "dtype: int64"
      ]
     },
     "execution_count": 85,
     "metadata": {},
     "output_type": "execute_result"
    }
   ],
   "source": [
    "data.isnull().sum()"
   ]
  },
  {
   "cell_type": "code",
   "execution_count": 86,
   "id": "41f7271a",
   "metadata": {},
   "outputs": [],
   "source": [
    "data.columns = [int(col) if col.isdigit() else col for col in data.columns]"
   ]
  },
  {
   "cell_type": "code",
   "execution_count": 90,
   "id": "ecbc3790",
   "metadata": {},
   "outputs": [
    {
     "name": "stderr",
     "output_type": "stream",
     "text": [
      "C:\\Users\\Shinoj Simon\\AppData\\Local\\Temp\\ipykernel_30664\\4158768181.py:2: FutureWarning: Dropping of nuisance columns in DataFrame reductions (with 'numeric_only=None') is deprecated; in a future version this will raise TypeError.  Select only valid columns before calling the reduction.\n",
      "  target_variable = data.sum(axis=1)\n"
     ]
    }
   ],
   "source": [
    "countries = data[\"Country\"]\n",
    "target_variable = data.sum(axis=1)"
   ]
  },
  {
   "cell_type": "code",
   "execution_count": 92,
   "id": "157f38a0",
   "metadata": {},
   "outputs": [],
   "source": [
    "data = data.drop(\"Country\", axis=1)"
   ]
  },
  {
   "cell_type": "code",
   "execution_count": 71,
   "id": "fc470801",
   "metadata": {},
   "outputs": [],
   "source": [
    "x_train, x_test, y_train, y_test = train_test_split(data, target_variable, test_size=0.2)"
   ]
  },
  {
   "cell_type": "code",
   "execution_count": 72,
   "id": "d3a79919",
   "metadata": {},
   "outputs": [
    {
     "data": {
      "text/plain": [
       "LinearRegression()"
      ]
     },
     "execution_count": 72,
     "metadata": {},
     "output_type": "execute_result"
    }
   ],
   "source": [
    "linear_regression_model = LinearRegression()\n",
    "linear_regression_model.fit(x_train, y_train)"
   ]
  },
  {
   "cell_type": "code",
   "execution_count": 73,
   "id": "1427ddd6",
   "metadata": {},
   "outputs": [
    {
     "data": {
      "text/plain": [
       "RandomForestRegressor(random_state=42)"
      ]
     },
     "execution_count": 73,
     "metadata": {},
     "output_type": "execute_result"
    }
   ],
   "source": [
    "random_forest_regressor_model = RandomForestRegressor(n_estimators=100, random_state=42)\n",
    "random_forest_regressor_model.fit(x_train, y_train)"
   ]
  },
  {
   "cell_type": "code",
   "execution_count": 74,
   "id": "697a9a37",
   "metadata": {},
   "outputs": [
    {
     "data": {
      "text/plain": [
       "GradientBoostingRegressor(random_state=42)"
      ]
     },
     "execution_count": 74,
     "metadata": {},
     "output_type": "execute_result"
    }
   ],
   "source": [
    "gradient_boosting_regressor_model = GradientBoostingRegressor(n_estimators=100, random_state=42)\n",
    "gradient_boosting_regressor_model.fit(x_train, y_train)"
   ]
  },
  {
   "cell_type": "code",
   "execution_count": 75,
   "id": "e8425cb8",
   "metadata": {},
   "outputs": [],
   "source": [
    "linear_regression_predictions = linear_regression_model.predict(data)\n",
    "random_forest_regressor_predictions = random_forest_regressor_model.predict(data)\n",
    "gradient_boosting_regressor_predictions = gradient_boosting_regressor_model.predict(data)"
   ]
  },
  {
   "cell_type": "code",
   "execution_count": 76,
   "id": "60de6609",
   "metadata": {},
   "outputs": [],
   "source": [
    "ensemble_predictions = (linear_regression_predictions * 0.3 + random_forest_regressor_predictions * 0.4 + gradient_boosting_regressor_predictions * 0.3)\n"
   ]
  },
  {
   "cell_type": "code",
   "execution_count": 77,
   "id": "00427664",
   "metadata": {},
   "outputs": [
    {
     "name": "stdout",
     "output_type": "stream",
     "text": [
      "R-squared value for ensemble model: 0.9478583743773819\n"
     ]
    }
   ],
   "source": [
    "r2 = r2_score(target_variable, ensemble_predictions)\n",
    "print(f\"R-squared value for ensemble model: {r2}\")"
   ]
  },
  {
   "cell_type": "code",
   "execution_count": 78,
   "id": "a971cb56",
   "metadata": {},
   "outputs": [
    {
     "name": "stdout",
     "output_type": "stream",
     "text": [
      "Greece : 11714816\n",
      "Bulgaria : 468886\n",
      "North Macedonia : 68652\n",
      "Serbia : 1629263\n",
      "Croatia : 120134\n",
      "Slovenia : 118178\n",
      "Cyprus : 298712\n",
      "Romania : 163006\n",
      "Italy : 18125816\n",
      "Kosovo : 44843\n",
      "Bosnia and Herzegovina : 1137299\n",
      "Montenegro : 383197\n"
     ]
    }
   ],
   "source": [
    "predictions = {}\n",
    "for i, country in enumerate(countries):\n",
    "    predictions[country] = int(ensemble_predictions[i])\n",
    "    print(f\"{country} : {int(ensemble_predictions[i])}\")"
   ]
  },
  {
   "cell_type": "code",
   "execution_count": 79,
   "id": "c98842a0",
   "metadata": {},
   "outputs": [
    {
     "name": "stdout",
     "output_type": "stream",
     "text": [
      "Total Predicted Immigration in Europe for next year: 34272807\n"
     ]
    }
   ],
   "source": [
    "future_total = ensemble_predictions.sum()\n",
    "print(f\"Total Predicted Immigration in Europe for next year: {int(future_total)}\")"
   ]
  },
  {
   "cell_type": "code",
   "execution_count": null,
   "id": "b57c6129",
   "metadata": {},
   "outputs": [],
   "source": []
  }
 ],
 "metadata": {
  "kernelspec": {
   "display_name": "Python 3 (ipykernel)",
   "language": "python",
   "name": "python3"
  },
  "language_info": {
   "codemirror_mode": {
    "name": "ipython",
    "version": 3
   },
   "file_extension": ".py",
   "mimetype": "text/x-python",
   "name": "python",
   "nbconvert_exporter": "python",
   "pygments_lexer": "ipython3",
   "version": "3.9.13"
  }
 },
 "nbformat": 4,
 "nbformat_minor": 5
}
